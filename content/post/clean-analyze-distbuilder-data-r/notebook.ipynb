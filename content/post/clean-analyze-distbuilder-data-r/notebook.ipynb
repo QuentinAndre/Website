{
 "cells": [
  {
   "cell_type": "code",
   "execution_count": 1,
   "id": "confident-locking",
   "metadata": {},
   "outputs": [],
   "source": [
    "suppressPackageStartupMessages(library(tidyverse))\n",
    "suppressPackageStartupMessages(library(scales))"
   ]
  },
  {
   "cell_type": "markdown",
   "id": "institutional-insured",
   "metadata": {},
   "source": [
    "**This tutorial is for R users. If you are a Python user, check out [this other tutorial instead!](https://quentinandre.net/post/clean-analyze-distbuilder-data-python)**\n",
    "\n",
    "You have just completed a simple distribution builder study on a Qualtrics.\n",
    "* Participants have been randomly assigned to one of two conditions (“Low” or “High”), and have learned a distribution of numbers ranging from 11 to 20.\n",
    "* After learning the distribution, they had to predict the next 10 numbers that would appear in the distribution.\n",
    "* To do so, they allocated 10 balls (representing the next 10 draws) to 10 buckets [11, 12, 13, 14, 15, 16, 17, 18, 19, 20] (representing the possible outcomes).\n",
    "\n",
    "Here is the data for the first five participants:"
   ]
  },
  {
   "cell_type": "code",
   "execution_count": 2,
   "id": "collectible-taste",
   "metadata": {},
   "outputs": [
    {
     "data": {
      "text/html": [
       "<table class=\"dataframe\">\n",
       "<caption>A data.frame: 5 × 3</caption>\n",
       "<thead>\n",
       "\t<tr><th></th><th scope=col>part_id</th><th scope=col>condition</th><th scope=col>allocation</th></tr>\n",
       "\t<tr><th></th><th scope=col>&lt;fct&gt;</th><th scope=col>&lt;fct&gt;</th><th scope=col>&lt;fct&gt;</th></tr>\n",
       "</thead>\n",
       "<tbody>\n",
       "\t<tr><th scope=row>1</th><td>A</td><td>Low </td><td>3,1,0,2,1,0,0,0,1,2</td></tr>\n",
       "\t<tr><th scope=row>2</th><td>B</td><td>High</td><td>0,0,2,0,2,0,1,2,0,3</td></tr>\n",
       "\t<tr><th scope=row>3</th><td>C</td><td>High</td><td>3,0,0,2,1,0,0,0,3,1</td></tr>\n",
       "\t<tr><th scope=row>4</th><td>D</td><td>Low </td><td>2,1,0,2,0,1,2,0,1,1</td></tr>\n",
       "\t<tr><th scope=row>5</th><td>E</td><td>Low </td><td>3,2,0,0,0,1,0,3,0,1</td></tr>\n",
       "</tbody>\n",
       "</table>\n"
      ],
      "text/latex": [
       "A data.frame: 5 × 3\n",
       "\\begin{tabular}{r|lll}\n",
       "  & part\\_id & condition & allocation\\\\\n",
       "  & <fct> & <fct> & <fct>\\\\\n",
       "\\hline\n",
       "\t1 & A & Low  & 3,1,0,2,1,0,0,0,1,2\\\\\n",
       "\t2 & B & High & 0,0,2,0,2,0,1,2,0,3\\\\\n",
       "\t3 & C & High & 3,0,0,2,1,0,0,0,3,1\\\\\n",
       "\t4 & D & Low  & 2,1,0,2,0,1,2,0,1,1\\\\\n",
       "\t5 & E & Low  & 3,2,0,0,0,1,0,3,0,1\\\\\n",
       "\\end{tabular}\n"
      ],
      "text/markdown": [
       "\n",
       "A data.frame: 5 × 3\n",
       "\n",
       "| <!--/--> | part_id &lt;fct&gt; | condition &lt;fct&gt; | allocation &lt;fct&gt; |\n",
       "|---|---|---|---|\n",
       "| 1 | A | Low  | 3,1,0,2,1,0,0,0,1,2 |\n",
       "| 2 | B | High | 0,0,2,0,2,0,1,2,0,3 |\n",
       "| 3 | C | High | 3,0,0,2,1,0,0,0,3,1 |\n",
       "| 4 | D | Low  | 2,1,0,2,0,1,2,0,1,1 |\n",
       "| 5 | E | Low  | 3,2,0,0,0,1,0,3,0,1 |\n",
       "\n"
      ],
      "text/plain": [
       "  part_id condition allocation         \n",
       "1 A       Low       3,1,0,2,1,0,0,0,1,2\n",
       "2 B       High      0,0,2,0,2,0,1,2,0,3\n",
       "3 C       High      3,0,0,2,1,0,0,0,3,1\n",
       "4 D       Low       2,1,0,2,0,1,2,0,1,1\n",
       "5 E       Low       3,2,0,0,0,1,0,3,0,1"
      ]
     },
     "metadata": {},
     "output_type": "display_data"
    }
   ],
   "source": [
    "text <- (\"A,Low,'3,1,0,2,1,0,0,0,1,2'\n",
    "B,High,'0,0,2,0,2,0,1,2,0,3'\n",
    "C,High,'3,0,0,2,1,0,0,0,3,1'\n",
    "D,Low,'2,1,0,2,0,1,2,0,1,1'\n",
    "E,Low,'3,2,0,0,0,1,0,3,0,1'\n",
    "F,High,'0,0,2,0,0,1,2,0,2,3'\n",
    "G,Low,'1,3,0,3,0,2,0,1,0,0'\n",
    "H,High,'0,1,3,0,0,1,2,2,1,0'\n",
    "I,High,'2,2,0,0,0,2,1,0,0,3'\n",
    "J,Low,'1,3,1,0,2,2,0,0,0,1'\n",
    "K,Low,'1,3,1,0,0,1,2,1,1,0'\n",
    "L,Low,'3,1,2,1,0,1,0,1,0,1'\n",
    "M,Low,'0,2,2,0,1,3,0,2,0,0'\n",
    "N,Low,'1,3,0,2,0,1,1,1,1,0'\n",
    "O,High,'0,0,1,3,1,0,0,3,0,2'\n",
    "P,High,'1,1,2,0,0,0,2,0,2,2'\n",
    "Q,High,'1,1,0,0,0,0,3,2,2,1'\n",
    "R,High,'2,0,0,0,0,2,3,0,3,0'\n",
    "S,High,'0,1,3,2,0,0,0,0,1,3'\n",
    "T,Low,'1,3,1,0,1,0,3,0,0,1'\")\n",
    "data <- read.table(\n",
    "  text = text, sep = \",\",\n",
    "  col.names = c(\"part_id\", \"condition\", \"allocation\")\n",
    ") %>%\n",
    "  mutate(condition = factor(condition, levels = c(\"Low\", \"High\")))\n",
    "head(data, 5)"
   ]
  },
  {
   "cell_type": "markdown",
   "id": "altered-muslim",
   "metadata": {},
   "source": [
    "## 1. Data Wrangling: Making the raw data usable"
   ]
  },
  {
   "cell_type": "markdown",
   "id": "individual-lobby",
   "metadata": {},
   "source": [
    "\n",
    "\n",
    "If you look at the raw data from Qualtrics, you can see that the column “allocation” has stored the allocation provided by each participant.\n",
    "\n",
    "However, those allocations are not interpretable right now:\n",
    "\n",
    "* The allocations are stored as a string (and not as a list of numbers).\n",
    "* This numbers in this allocation are not the values of the distribution: those are the number of balls in each bucket. You can see that all the values are below 10, while the buckets ranged from 11 to 20.\n",
    "\n",
    "Let’s review how you should transform this data, and what you can do with it."
   ]
  },
  {
   "cell_type": "markdown",
   "id": "fourth-payroll",
   "metadata": {},
   "source": [
    "### A. Converting the allocations to distributions"
   ]
  },
  {
   "cell_type": "markdown",
   "id": "fatty-booth",
   "metadata": {},
   "source": [
    "\n",
    "The first step is to write a function and convert those allocations to distributions."
   ]
  },
  {
   "cell_type": "code",
   "execution_count": 3,
   "id": "executive-coupon",
   "metadata": {},
   "outputs": [],
   "source": [
    "convert_allocation_to_distribution <- function(allocation, buckets) {\n",
    "  # Takes an allocation of balls to buckets, and a list of buckets.  Return the\n",
    "  # corresponding distribution of values.\n",
    "  allocation <- as.character(allocation)  # Failsafe in case it was stored as a factor\n",
    "  list_alloc_num <- unlist(strsplit(allocation, \",\"))\n",
    "  list(rep(buckets, list_alloc_num))\n",
    "}"
   ]
  },
  {
   "cell_type": "markdown",
   "id": "toxic-simulation",
   "metadata": {},
   "source": [
    "Now we apply this function to the column “allocation”, specifying that the buckets ranged from 11 to 20."
   ]
  },
  {
   "cell_type": "code",
   "execution_count": 4,
   "id": "incorporated-consideration",
   "metadata": {},
   "outputs": [
    {
     "data": {
      "text/html": [
       "<table class=\"dataframe\">\n",
       "<caption>A tibble: 5 × 4</caption>\n",
       "<thead>\n",
       "\t<tr><th scope=col>part_id</th><th scope=col>condition</th><th scope=col>allocation</th><th scope=col>distribution</th></tr>\n",
       "\t<tr><th scope=col>&lt;fct&gt;</th><th scope=col>&lt;fct&gt;</th><th scope=col>&lt;fct&gt;</th><th scope=col>&lt;list&gt;</th></tr>\n",
       "</thead>\n",
       "<tbody>\n",
       "\t<tr><td>A</td><td>Low </td><td>3,1,0,2,1,0,0,0,1,2</td><td>11, 11, 11, 12, 14, 14, 15, 19, 20, 20</td></tr>\n",
       "\t<tr><td>B</td><td>High</td><td>0,0,2,0,2,0,1,2,0,3</td><td>13, 13, 15, 15, 17, 18, 18, 20, 20, 20</td></tr>\n",
       "\t<tr><td>C</td><td>High</td><td>3,0,0,2,1,0,0,0,3,1</td><td>11, 11, 11, 14, 14, 15, 19, 19, 19, 20</td></tr>\n",
       "\t<tr><td>D</td><td>Low </td><td>2,1,0,2,0,1,2,0,1,1</td><td>11, 11, 12, 14, 14, 16, 17, 17, 19, 20</td></tr>\n",
       "\t<tr><td>E</td><td>Low </td><td>3,2,0,0,0,1,0,3,0,1</td><td>11, 11, 11, 12, 12, 16, 18, 18, 18, 20</td></tr>\n",
       "</tbody>\n",
       "</table>\n"
      ],
      "text/latex": [
       "A tibble: 5 × 4\n",
       "\\begin{tabular}{llll}\n",
       " part\\_id & condition & allocation & distribution\\\\\n",
       " <fct> & <fct> & <fct> & <list>\\\\\n",
       "\\hline\n",
       "\t A & Low  & 3,1,0,2,1,0,0,0,1,2 & 11, 11, 11, 12, 14, 14, 15, 19, 20, 20\\\\\n",
       "\t B & High & 0,0,2,0,2,0,1,2,0,3 & 13, 13, 15, 15, 17, 18, 18, 20, 20, 20\\\\\n",
       "\t C & High & 3,0,0,2,1,0,0,0,3,1 & 11, 11, 11, 14, 14, 15, 19, 19, 19, 20\\\\\n",
       "\t D & Low  & 2,1,0,2,0,1,2,0,1,1 & 11, 11, 12, 14, 14, 16, 17, 17, 19, 20\\\\\n",
       "\t E & Low  & 3,2,0,0,0,1,0,3,0,1 & 11, 11, 11, 12, 12, 16, 18, 18, 18, 20\\\\\n",
       "\\end{tabular}\n"
      ],
      "text/markdown": [
       "\n",
       "A tibble: 5 × 4\n",
       "\n",
       "| part_id &lt;fct&gt; | condition &lt;fct&gt; | allocation &lt;fct&gt; | distribution &lt;list&gt; |\n",
       "|---|---|---|---|\n",
       "| A | Low  | 3,1,0,2,1,0,0,0,1,2 | 11, 11, 11, 12, 14, 14, 15, 19, 20, 20 |\n",
       "| B | High | 0,0,2,0,2,0,1,2,0,3 | 13, 13, 15, 15, 17, 18, 18, 20, 20, 20 |\n",
       "| C | High | 3,0,0,2,1,0,0,0,3,1 | 11, 11, 11, 14, 14, 15, 19, 19, 19, 20 |\n",
       "| D | Low  | 2,1,0,2,0,1,2,0,1,1 | 11, 11, 12, 14, 14, 16, 17, 17, 19, 20 |\n",
       "| E | Low  | 3,2,0,0,0,1,0,3,0,1 | 11, 11, 11, 12, 12, 16, 18, 18, 18, 20 |\n",
       "\n"
      ],
      "text/plain": [
       "  part_id condition allocation          distribution                          \n",
       "1 A       Low       3,1,0,2,1,0,0,0,1,2 11, 11, 11, 12, 14, 14, 15, 19, 20, 20\n",
       "2 B       High      0,0,2,0,2,0,1,2,0,3 13, 13, 15, 15, 17, 18, 18, 20, 20, 20\n",
       "3 C       High      3,0,0,2,1,0,0,0,3,1 11, 11, 11, 14, 14, 15, 19, 19, 19, 20\n",
       "4 D       Low       2,1,0,2,0,1,2,0,1,1 11, 11, 12, 14, 14, 16, 17, 17, 19, 20\n",
       "5 E       Low       3,2,0,0,0,1,0,3,0,1 11, 11, 11, 12, 12, 16, 18, 18, 18, 20"
      ]
     },
     "metadata": {},
     "output_type": "display_data"
    }
   ],
   "source": [
    "buckets <- seq(11, 20)  # Our buckets\n",
    "data <- data %>%\n",
    "  rowwise %>%\n",
    "  mutate(distribution = convert_allocation_to_distribution(allocation, buckets)) %>%\n",
    "  ungroup()\n",
    "head(data, 5)"
   ]
  },
  {
   "cell_type": "markdown",
   "id": "utility-landing",
   "metadata": {},
   "source": [
    "Good! The raw allocation strings have now been converted to the actual distribution provided by participants.\n",
    "\n",
    "However, the data is in a nice shape: the data for each participant is stored as a list of number in a single column. Ideally, we’d like a format that we can use to do analysis and graphs."
   ]
  },
  {
   "cell_type": "markdown",
   "id": "parallel-aerospace",
   "metadata": {},
   "source": [
    "### B. Pivoting the distributions in long form"
   ]
  },
  {
   "cell_type": "markdown",
   "id": "standing-wales",
   "metadata": {},
   "source": [
    "We are now going to reshape the data in long form, such that one record corresponds to one value entered by one participant. This is achieved using the `unnest` function from dplyr."
   ]
  },
  {
   "cell_type": "code",
   "execution_count": 5,
   "id": "previous-suspect",
   "metadata": {},
   "outputs": [
    {
     "data": {
      "text/html": [
       "<table class=\"dataframe\">\n",
       "<caption>A tibble: 10 × 5</caption>\n",
       "<thead>\n",
       "\t<tr><th scope=col>part_id</th><th scope=col>condition</th><th scope=col>allocation</th><th scope=col>value</th><th scope=col>value_index</th></tr>\n",
       "\t<tr><th scope=col>&lt;fct&gt;</th><th scope=col>&lt;fct&gt;</th><th scope=col>&lt;fct&gt;</th><th scope=col>&lt;int&gt;</th><th scope=col>&lt;int&gt;</th></tr>\n",
       "</thead>\n",
       "<tbody>\n",
       "\t<tr><td>A</td><td>Low</td><td>3,1,0,2,1,0,0,0,1,2</td><td>11</td><td> 1</td></tr>\n",
       "\t<tr><td>A</td><td>Low</td><td>3,1,0,2,1,0,0,0,1,2</td><td>11</td><td> 2</td></tr>\n",
       "\t<tr><td>A</td><td>Low</td><td>3,1,0,2,1,0,0,0,1,2</td><td>11</td><td> 3</td></tr>\n",
       "\t<tr><td>A</td><td>Low</td><td>3,1,0,2,1,0,0,0,1,2</td><td>12</td><td> 4</td></tr>\n",
       "\t<tr><td>A</td><td>Low</td><td>3,1,0,2,1,0,0,0,1,2</td><td>14</td><td> 5</td></tr>\n",
       "\t<tr><td>A</td><td>Low</td><td>3,1,0,2,1,0,0,0,1,2</td><td>14</td><td> 6</td></tr>\n",
       "\t<tr><td>A</td><td>Low</td><td>3,1,0,2,1,0,0,0,1,2</td><td>15</td><td> 7</td></tr>\n",
       "\t<tr><td>A</td><td>Low</td><td>3,1,0,2,1,0,0,0,1,2</td><td>19</td><td> 8</td></tr>\n",
       "\t<tr><td>A</td><td>Low</td><td>3,1,0,2,1,0,0,0,1,2</td><td>20</td><td> 9</td></tr>\n",
       "\t<tr><td>A</td><td>Low</td><td>3,1,0,2,1,0,0,0,1,2</td><td>20</td><td>10</td></tr>\n",
       "</tbody>\n",
       "</table>\n"
      ],
      "text/latex": [
       "A tibble: 10 × 5\n",
       "\\begin{tabular}{lllll}\n",
       " part\\_id & condition & allocation & value & value\\_index\\\\\n",
       " <fct> & <fct> & <fct> & <int> & <int>\\\\\n",
       "\\hline\n",
       "\t A & Low & 3,1,0,2,1,0,0,0,1,2 & 11 &  1\\\\\n",
       "\t A & Low & 3,1,0,2,1,0,0,0,1,2 & 11 &  2\\\\\n",
       "\t A & Low & 3,1,0,2,1,0,0,0,1,2 & 11 &  3\\\\\n",
       "\t A & Low & 3,1,0,2,1,0,0,0,1,2 & 12 &  4\\\\\n",
       "\t A & Low & 3,1,0,2,1,0,0,0,1,2 & 14 &  5\\\\\n",
       "\t A & Low & 3,1,0,2,1,0,0,0,1,2 & 14 &  6\\\\\n",
       "\t A & Low & 3,1,0,2,1,0,0,0,1,2 & 15 &  7\\\\\n",
       "\t A & Low & 3,1,0,2,1,0,0,0,1,2 & 19 &  8\\\\\n",
       "\t A & Low & 3,1,0,2,1,0,0,0,1,2 & 20 &  9\\\\\n",
       "\t A & Low & 3,1,0,2,1,0,0,0,1,2 & 20 & 10\\\\\n",
       "\\end{tabular}\n"
      ],
      "text/markdown": [
       "\n",
       "A tibble: 10 × 5\n",
       "\n",
       "| part_id &lt;fct&gt; | condition &lt;fct&gt; | allocation &lt;fct&gt; | value &lt;int&gt; | value_index &lt;int&gt; |\n",
       "|---|---|---|---|---|\n",
       "| A | Low | 3,1,0,2,1,0,0,0,1,2 | 11 |  1 |\n",
       "| A | Low | 3,1,0,2,1,0,0,0,1,2 | 11 |  2 |\n",
       "| A | Low | 3,1,0,2,1,0,0,0,1,2 | 11 |  3 |\n",
       "| A | Low | 3,1,0,2,1,0,0,0,1,2 | 12 |  4 |\n",
       "| A | Low | 3,1,0,2,1,0,0,0,1,2 | 14 |  5 |\n",
       "| A | Low | 3,1,0,2,1,0,0,0,1,2 | 14 |  6 |\n",
       "| A | Low | 3,1,0,2,1,0,0,0,1,2 | 15 |  7 |\n",
       "| A | Low | 3,1,0,2,1,0,0,0,1,2 | 19 |  8 |\n",
       "| A | Low | 3,1,0,2,1,0,0,0,1,2 | 20 |  9 |\n",
       "| A | Low | 3,1,0,2,1,0,0,0,1,2 | 20 | 10 |\n",
       "\n"
      ],
      "text/plain": [
       "   part_id condition allocation          value value_index\n",
       "1  A       Low       3,1,0,2,1,0,0,0,1,2 11     1         \n",
       "2  A       Low       3,1,0,2,1,0,0,0,1,2 11     2         \n",
       "3  A       Low       3,1,0,2,1,0,0,0,1,2 11     3         \n",
       "4  A       Low       3,1,0,2,1,0,0,0,1,2 12     4         \n",
       "5  A       Low       3,1,0,2,1,0,0,0,1,2 14     5         \n",
       "6  A       Low       3,1,0,2,1,0,0,0,1,2 14     6         \n",
       "7  A       Low       3,1,0,2,1,0,0,0,1,2 15     7         \n",
       "8  A       Low       3,1,0,2,1,0,0,0,1,2 19     8         \n",
       "9  A       Low       3,1,0,2,1,0,0,0,1,2 20     9         \n",
       "10 A       Low       3,1,0,2,1,0,0,0,1,2 20    10         "
      ]
     },
     "metadata": {},
     "output_type": "display_data"
    }
   ],
   "source": [
    "data_long <- data %>%\n",
    "  unnest(distribution) %>%\n",
    "  group_by(part_id) %>%\n",
    "  mutate(value_index = row_number()) %>%\n",
    "  ungroup() %>%\n",
    "  rename(value = distribution)\n",
    "head(data_long, 10)"
   ]
  },
  {
   "cell_type": "markdown",
   "id": "charming-rebound",
   "metadata": {},
   "source": [
    "Great! We now have the data in long form. At this stage, it is good practice to double-check that all your participants have entered a full distribution (i.e., that there are 10 values per participant)."
   ]
  },
  {
   "cell_type": "code",
   "execution_count": 6,
   "id": "pretty-child",
   "metadata": {},
   "outputs": [
    {
     "data": {
      "text/html": [
       "<table class=\"dataframe\">\n",
       "<caption>A tibble: 5 × 2</caption>\n",
       "<thead>\n",
       "\t<tr><th scope=col>part_id</th><th scope=col>n</th></tr>\n",
       "\t<tr><th scope=col>&lt;fct&gt;</th><th scope=col>&lt;int&gt;</th></tr>\n",
       "</thead>\n",
       "<tbody>\n",
       "\t<tr><td>A</td><td>10</td></tr>\n",
       "\t<tr><td>B</td><td>10</td></tr>\n",
       "\t<tr><td>C</td><td>10</td></tr>\n",
       "\t<tr><td>D</td><td>10</td></tr>\n",
       "\t<tr><td>E</td><td>10</td></tr>\n",
       "</tbody>\n",
       "</table>\n"
      ],
      "text/latex": [
       "A tibble: 5 × 2\n",
       "\\begin{tabular}{ll}\n",
       " part\\_id & n\\\\\n",
       " <fct> & <int>\\\\\n",
       "\\hline\n",
       "\t A & 10\\\\\n",
       "\t B & 10\\\\\n",
       "\t C & 10\\\\\n",
       "\t D & 10\\\\\n",
       "\t E & 10\\\\\n",
       "\\end{tabular}\n"
      ],
      "text/markdown": [
       "\n",
       "A tibble: 5 × 2\n",
       "\n",
       "| part_id &lt;fct&gt; | n &lt;int&gt; |\n",
       "|---|---|\n",
       "| A | 10 |\n",
       "| B | 10 |\n",
       "| C | 10 |\n",
       "| D | 10 |\n",
       "| E | 10 |\n",
       "\n"
      ],
      "text/plain": [
       "  part_id n \n",
       "1 A       10\n",
       "2 B       10\n",
       "3 C       10\n",
       "4 D       10\n",
       "5 E       10"
      ]
     },
     "metadata": {},
     "output_type": "display_data"
    }
   ],
   "source": [
    "data_long %>%\n",
    "  count(part_id) %>%\n",
    "  head(5)"
   ]
  },
  {
   "cell_type": "markdown",
   "id": "operational-louis",
   "metadata": {},
   "source": [
    "We are now ready for some dataviz and statistical analysis!"
   ]
  },
  {
   "cell_type": "markdown",
   "id": "inappropriate-paper",
   "metadata": {},
   "source": [
    "## 2. Visualizing the data"
   ]
  },
  {
   "cell_type": "markdown",
   "id": "foreign-locking",
   "metadata": {},
   "source": [
    "The first thing you can do is to inspect the distributions provided by the participants:"
   ]
  },
  {
   "cell_type": "code",
   "execution_count": 29,
   "id": "political-plasma",
   "metadata": {},
   "outputs": [
    {
     "data": {
      "image/png": "[encoded data removed]",
      "text/plain": [
       "plot without title"
      ]
     },
     "metadata": {},
     "output_type": "display_data"
    }
   ],
   "source": [
    "options(repr.plot.width = 7, repr.plot.height =5)\n",
    "ggplot(data_long) +\n",
    "facet_wrap(vars(part_id), ncol = 4, scales = \"free\") +\n",
    "geom_bar(aes(value, fill = condition)) +\n",
    "xlab(\"Distributions\") +\n",
    "ylab(\"Count\") +\n",
    "scale_x_continuous(breaks = seq(11, 20, 1)) +\n",
    "scale_y_continuous(limits = c(0, 4)) +\n",
    "scale_fill_manual(values = c(\"#619CFF\", \"#F8766D\")) +\n",
    "theme_classic() +\n",
    "theme(\n",
    "  axis.text.x = element_text(size = rel(0.75)),\n",
    "  strip.text = element_text(face = \"bold\", size = 9),\n",
    "  strip.background = element_rect(fill = NULL, colour = \"black\", size = 0)\n",
    ")"
   ]
  },
  {
   "cell_type": "markdown",
   "id": "assisted-alberta",
   "metadata": {},
   "source": [
    "Those distributions look pretty random (because they were randomly generated), but at least we can see how each participant responded!\n",
    "\n",
    "Note that we could also look at the overall distribution of responses by condition. Don't forget to plot the frequency (rather than the count) by condition, otherwise you will not be able to compare two conditions that do not have the exact same number of participants:"
   ]
  },
  {
   "cell_type": "code",
   "execution_count": 26,
   "id": "accepted-render",
   "metadata": {},
   "outputs": [
    {
     "data": {
      "image/png": "[encoded data removed]",
      "text/plain": [
       "plot without title"
      ]
     },
     "metadata": {},
     "output_type": "display_data"
    }
   ],
   "source": [
    "options(repr.plot.width = 6, repr.plot.height = 3)\n",
    "ggplot(data_long) +\n",
    "facet_wrap(vars(condition), ncol = 4, scales = \"free\") +\n",
    "geom_bar(aes(value, fill = condition, y = ..prop.., group = condition)) +\n",
    "scale_x_continuous(breaks = seq(11, 20, 1)) +\n",
    "scale_y_continuous(limits = c(0, 0.25), labels = percent) +\n",
    "scale_fill_manual(values=c(\"#619CFF\", \"#F8766D\")) +\n",
    "xlab(\"Distributions\") +\n",
    "ylab(\"Frequency\") +\n",
    "theme_classic() +\n",
    "theme(\n",
    "  axis.text.x = element_text(size = rel(0.75)),\n",
    "  strip.text = element_text(face = \"bold\", size = 9),\n",
    "  strip.background = element_rect(fill = NULL, colour = \"black\", size = 0)\n",
    ")"
   ]
  },
  {
   "cell_type": "markdown",
   "id": "chief-anthony",
   "metadata": {},
   "source": [
    "## 3. Analyzing properties of the distributions"
   ]
  },
  {
   "cell_type": "markdown",
   "id": "digital-stomach",
   "metadata": {},
   "source": [
    "**The analysis of the data always depends on the research question.**\n",
    "\n",
    "So far, we have taken a descriptive approach to the data: We considered that we have collected 10 values from each participant, and have analyzed the data as such.\n",
    "\n",
    "However, we could have collected the data with the specific goal of testing people’s beliefs about particular properties of the distribution:\n",
    "\n",
    "* We could be interested in what is the average value that people expect (i.e., the mean)\n",
    "* We could be interested in how dispersed participants expect the distribution to be (e.g., the standard deviation).\n",
    "* We could be interested in how skewed they expect it to be (i.e., the kurtosis)\n",
    "\n",
    "In that case, the relevant unit of analysis is the statistics computed at the distribution’s level.\n",
    "\n",
    "We need to group the data by part_id, and compute the statistics of interest, to obtain one data point per participant."
   ]
  },
  {
   "cell_type": "code",
   "execution_count": 9,
   "id": "liable-dancing",
   "metadata": {},
   "outputs": [
    {
     "data": {
      "text/html": [
       "<table class=\"dataframe\">\n",
       "<caption>A tibble: 5 × 4</caption>\n",
       "<thead>\n",
       "\t<tr><th scope=col>condition</th><th scope=col>part_id</th><th scope=col>Dist_SD</th><th scope=col>Dist_M</th></tr>\n",
       "\t<tr><th scope=col>&lt;fct&gt;</th><th scope=col>&lt;fct&gt;</th><th scope=col>&lt;dbl&gt;</th><th scope=col>&lt;dbl&gt;</th></tr>\n",
       "</thead>\n",
       "<tbody>\n",
       "\t<tr><td>Low</td><td>A</td><td>3.713339</td><td>14.7</td></tr>\n",
       "\t<tr><td>Low</td><td>D</td><td>3.212822</td><td>15.1</td></tr>\n",
       "\t<tr><td>Low</td><td>E</td><td>3.622461</td><td>14.7</td></tr>\n",
       "\t<tr><td>Low</td><td>G</td><td>2.233582</td><td>13.9</td></tr>\n",
       "\t<tr><td>Low</td><td>J</td><td>2.740641</td><td>14.2</td></tr>\n",
       "</tbody>\n",
       "</table>\n"
      ],
      "text/latex": [
       "A tibble: 5 × 4\n",
       "\\begin{tabular}{llll}\n",
       " condition & part\\_id & Dist\\_SD & Dist\\_M\\\\\n",
       " <fct> & <fct> & <dbl> & <dbl>\\\\\n",
       "\\hline\n",
       "\t Low & A & 3.713339 & 14.7\\\\\n",
       "\t Low & D & 3.212822 & 15.1\\\\\n",
       "\t Low & E & 3.622461 & 14.7\\\\\n",
       "\t Low & G & 2.233582 & 13.9\\\\\n",
       "\t Low & J & 2.740641 & 14.2\\\\\n",
       "\\end{tabular}\n"
      ],
      "text/markdown": [
       "\n",
       "A tibble: 5 × 4\n",
       "\n",
       "| condition &lt;fct&gt; | part_id &lt;fct&gt; | Dist_SD &lt;dbl&gt; | Dist_M &lt;dbl&gt; |\n",
       "|---|---|---|---|\n",
       "| Low | A | 3.713339 | 14.7 |\n",
       "| Low | D | 3.212822 | 15.1 |\n",
       "| Low | E | 3.622461 | 14.7 |\n",
       "| Low | G | 2.233582 | 13.9 |\n",
       "| Low | J | 2.740641 | 14.2 |\n",
       "\n"
      ],
      "text/plain": [
       "  condition part_id Dist_SD  Dist_M\n",
       "1 Low       A       3.713339 14.7  \n",
       "2 Low       D       3.212822 15.1  \n",
       "3 Low       E       3.622461 14.7  \n",
       "4 Low       G       2.233582 13.9  \n",
       "5 Low       J       2.740641 14.2  "
      ]
     },
     "metadata": {},
     "output_type": "display_data"
    }
   ],
   "source": [
    "data_summary <- data_long %>%\n",
    "  group_by(condition, part_id) %>%\n",
    "  summarise(Dist_SD = sd(value), Dist_M = mean(value), .groups = \"drop\")\n",
    "head(data_summary, 5)"
   ]
  },
  {
   "cell_type": "markdown",
   "id": "competitive-platform",
   "metadata": {},
   "source": [
    "We can now see if our condition had an impact on people’s perceived mean of the distribution:"
   ]
  },
  {
   "cell_type": "code",
   "execution_count": 24,
   "id": "breathing-complaint",
   "metadata": {},
   "outputs": [
    {
     "data": {
      "image/png": "[encoded data removed]",
      "text/plain": [
       "plot without title"
      ]
     },
     "metadata": {},
     "output_type": "display_data"
    }
   ],
   "source": [
    "options(repr.plot.width = 4, repr.plot.height = 4)\n",
    "ggplot(data_summary, aes(x = condition, y = Dist_M, color = condition)) +\n",
    "geom_jitter(width = 0.2) +\n",
    "xlab(\"Condition\") +\n",
    "ylab(\"Mean of Reported Distributions\") +\n",
    "scale_color_manual(values = c(\"#619CFF\", \"#F8766D\")) +\n",
    "theme_classic()"
   ]
  },
  {
   "cell_type": "markdown",
   "id": "unknown-apparatus",
   "metadata": {},
   "source": [
    "Here, we see that participants in the “Low” condition reported a significantly lower mean that participants in the “High” condition (which is exactly how I created the data, so not so surprising…)."
   ]
  },
  {
   "cell_type": "markdown",
   "id": "portuguese-feeding",
   "metadata": {},
   "source": [
    "## 4. Wrapping Up"
   ]
  },
  {
   "cell_type": "markdown",
   "id": "herbal-surge",
   "metadata": {},
   "source": [
    "We have seen how to convert the raw data generated by distBuilder to a standard long form dataset.\n",
    "\n",
    "A few words of caution to finish:\n",
    "\n",
    "* Always check that the list of buckets you use in the analysis matches the list of buckets that was shown to participants.\n",
    "* Always check your number of records. If something is off, you might have missing data, or you might not have forced participants to submit a full distribution.\n",
    "* Always ask yourself: what is my unit of analysis? Is it the values provided by participants, or is it a summary statistics of their total reported distribution?"
   ]
  }
 ],
 "metadata": {
  "kernelspec": {
   "display_name": "R",
   "language": "R",
   "name": "ir"
  },
  "language_info": {
   "codemirror_mode": "r",
   "file_extension": ".r",
   "mimetype": "text/x-r-source",
   "name": "R",
   "pygments_lexer": "r",
   "version": "3.6.3"
  }
 },
 "nbformat": 4,
 "nbformat_minor": 5
}