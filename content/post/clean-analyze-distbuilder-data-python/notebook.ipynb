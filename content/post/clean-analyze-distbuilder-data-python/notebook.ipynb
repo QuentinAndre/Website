{
 "cells": [
  {
   "cell_type": "code",
   "execution_count": 1,
   "metadata": {},
   "outputs": [],
   "source": [
    "import warnings\n",
    "from io import StringIO\n",
    "from IPython.display import display, HTML\n",
    "\n",
    "import matplotlib.pyplot as plt\n",
    "import numpy as np\n",
    "import pandas as pd\n",
    "import seaborn as sns\n",
    "import statsmodels.formula.api as smf\n",
    "from scipy import stats"
   ]
  },
  {
   "cell_type": "markdown",
   "metadata": {},
   "source": [
    "**This tutorial is for R users. If you are using Python, check out [this other tutorial instead!](https://quentinandre.net/post/clean-analyze-distbuilder-data-r)**\n",
    "\n",
    "You have just completed a simple distribution builder study on a Qualtrics.\n",
    "\n",
    "* Participants have been randomly assigned to one of two conditions (\"Low\" or \"High\"), and have learned a distribution of numbers ranging from 11 to 20.\n",
    "* After learning the distribution, they had to predict the next 10 numbers that would appear in the distribution.\n",
    "* To do so, they allocated 10 balls (representing the next 10 draws) to 10 buckets [11, 12, 13, 14, 15, 16, 17, 18, 19, 20] (representing the possible outcomes).\n",
    "\n",
    "Here is the data for the first five participants:"
   ]
  },
  {
   "cell_type": "code",
   "execution_count": 2,
   "metadata": {},
   "outputs": [
    {
     "data": {
      "text/html": [
       "<div>\n",
       "<style scoped>\n",
       "    .dataframe tbody tr th:only-of-type {\n",
       "        vertical-align: middle;\n",
       "    }\n",
       "\n",
       "    .dataframe tbody tr th {\n",
       "        vertical-align: top;\n",
       "    }\n",
       "\n",
       "    .dataframe thead th {\n",
       "        text-align: right;\n",
       "    }\n",
       "</style>\n",
       "<table border=\"1\" class=\"dataframe\">\n",
       "  <thead>\n",
       "    <tr style=\"text-align: right;\">\n",
       "      <th></th>\n",
       "      <th>part_id</th>\n",
       "      <th>condition</th>\n",
       "      <th>allocation</th>\n",
       "    </tr>\n",
       "  </thead>\n",
       "  <tbody>\n",
       "    <tr>\n",
       "      <th>0</th>\n",
       "      <td>A</td>\n",
       "      <td>Low</td>\n",
       "      <td>3,1,0,2,1,0,0,0,1,2</td>\n",
       "    </tr>\n",
       "    <tr>\n",
       "      <th>1</th>\n",
       "      <td>B</td>\n",
       "      <td>High</td>\n",
       "      <td>0,0,2,0,2,0,1,2,0,3</td>\n",
       "    </tr>\n",
       "    <tr>\n",
       "      <th>2</th>\n",
       "      <td>C</td>\n",
       "      <td>High</td>\n",
       "      <td>3,0,0,2,1,0,0,0,3,1</td>\n",
       "    </tr>\n",
       "    <tr>\n",
       "      <th>3</th>\n",
       "      <td>D</td>\n",
       "      <td>Low</td>\n",
       "      <td>2,1,0,2,0,1,2,0,1,1</td>\n",
       "    </tr>\n",
       "    <tr>\n",
       "      <th>4</th>\n",
       "      <td>E</td>\n",
       "      <td>Low</td>\n",
       "      <td>3,2,0,0,0,1,0,3,0,1</td>\n",
       "    </tr>\n",
       "  </tbody>\n",
       "</table>\n",
       "</div>"
      ],
      "text/plain": [
       "  part_id condition           allocation\n",
       "0       A       Low  3,1,0,2,1,0,0,0,1,2\n",
       "1       B      High  0,0,2,0,2,0,1,2,0,3\n",
       "2       C      High  3,0,0,2,1,0,0,0,3,1\n",
       "3       D       Low  2,1,0,2,0,1,2,0,1,1\n",
       "4       E       Low  3,2,0,0,0,1,0,3,0,1"
      ]
     },
     "execution_count": 2,
     "metadata": {},
     "output_type": "execute_result"
    }
   ],
   "source": [
    "data = \"\"\"part_id,condition,allocation\n",
    "A,Low,\"3,1,0,2,1,0,0,0,1,2\"\n",
    "B,High,\"0,0,2,0,2,0,1,2,0,3\"\n",
    "C,High,\"3,0,0,2,1,0,0,0,3,1\"\n",
    "D,Low,\"2,1,0,2,0,1,2,0,1,1\"\n",
    "E,Low,\"3,2,0,0,0,1,0,3,0,1\"\n",
    "F,High,\"0,0,2,0,0,1,2,0,2,3\"\n",
    "G,Low,\"1,3,0,3,0,2,0,1,0,0\"\n",
    "H,High,\"0,1,3,0,0,1,2,2,1,0\"\n",
    "I,High,\"2,2,0,0,0,2,1,0,0,3\"\n",
    "J,Low,\"1,3,1,0,2,2,0,0,0,1\"\n",
    "K,Low,\"1,3,1,0,0,1,2,1,1,0\"\n",
    "L,Low,\"3,1,2,1,0,1,0,1,0,1\"\n",
    "M,Low,\"0,2,2,0,1,3,0,2,0,0\"\n",
    "N,Low,\"1,3,0,2,0,1,1,1,1,0\"\n",
    "O,High,\"0,0,1,3,1,0,0,3,0,2\"\n",
    "P,High,\"1,1,2,0,0,0,2,0,2,2\"\n",
    "Q,High,\"1,1,0,0,0,0,3,2,2,1\"\n",
    "R,High,\"2,0,0,0,0,2,3,0,3,0\"\n",
    "S,High,\"0,1,3,2,0,0,0,0,1,3\"\n",
    "T,Low,\"1,3,1,0,1,0,3,0,0,1\"\n",
    "\"\"\"\n",
    "df = pd.read_csv(StringIO(data), sep=\",\")\n",
    "df.head()"
   ]
  },
  {
   "cell_type": "markdown",
   "metadata": {},
   "source": [
    "## 1. Data Wrangling: Making the raw data usable"
   ]
  },
  {
   "cell_type": "markdown",
   "metadata": {},
   "source": [
    "If you look at the raw data from Qualtrics, you can see that the column \"allocation\" has stored the allocation provided by each participant.\n",
    "\n",
    "However, those allocations are not interpretable right now:\n",
    "1. The allocations are stored as a string (and not as a list of numbers).\n",
    "2. This numbers in this *allocation* are not the values of the *distribution*: those are the number of balls in each bucket. You can see that all the values are below 10, while the buckets ranged from 11 to 20.\n",
    "\n",
    "Let's review how you should transform this data, and what you can do with it.\n",
    "\n",
    "The first step is to write a function and convert those allocations to distributions."
   ]
  },
  {
   "cell_type": "markdown",
   "metadata": {},
   "source": [
    "### A. Converting the allocations into distributions"
   ]
  },
  {
   "cell_type": "code",
   "execution_count": 3,
   "metadata": {},
   "outputs": [],
   "source": [
    "def convert_allocation_to_distribution(allocation, buckets):\n",
    "    \"\"\"\n",
    "    Takes an allocation of balls to buckets, and a list of buckets.\n",
    "    Return the corresponding distribution of values.\n",
    "\n",
    "    Example:\n",
    "        buckets = [1, 2, 3, 4, 5]\n",
    "        x = \"0, 3, 1, 2, 1\"\n",
    "        dist = convert_allocation_to_distribution(x, buckets)\n",
    "        print(dist) -> (2, 2, 2, 3, 4, 4, 5)\n",
    "    \"\"\"\n",
    "    arr = allocation.split(\",\")\n",
    "\n",
    "    if len(arr) != len(buckets):\n",
    "        raise ValueError(\n",
    "            \"The number of buckets should match the length of the allocations.\"\n",
    "        )\n",
    "    values = np.repeat(buckets, arr)\n",
    "    return values"
   ]
  },
  {
   "cell_type": "markdown",
   "metadata": {},
   "source": [
    "Now we apply this function to the column \"allocation\", specifying that the buckets ranged from 11 to 20."
   ]
  },
  {
   "cell_type": "code",
   "execution_count": 4,
   "metadata": {},
   "outputs": [
    {
     "data": {
      "text/html": [
       "<div>\n",
       "<style scoped>\n",
       "    .dataframe tbody tr th:only-of-type {\n",
       "        vertical-align: middle;\n",
       "    }\n",
       "\n",
       "    .dataframe tbody tr th {\n",
       "        vertical-align: top;\n",
       "    }\n",
       "\n",
       "    .dataframe thead th {\n",
       "        text-align: right;\n",
       "    }\n",
       "</style>\n",
       "<table border=\"1\" class=\"dataframe\">\n",
       "  <thead>\n",
       "    <tr style=\"text-align: right;\">\n",
       "      <th></th>\n",
       "      <th>part_id</th>\n",
       "      <th>condition</th>\n",
       "      <th>allocation</th>\n",
       "      <th>distribution</th>\n",
       "    </tr>\n",
       "  </thead>\n",
       "  <tbody>\n",
       "    <tr>\n",
       "      <th>0</th>\n",
       "      <td>A</td>\n",
       "      <td>Low</td>\n",
       "      <td>3,1,0,2,1,0,0,0,1,2</td>\n",
       "      <td>[11, 11, 11, 12, 14, 14, 15, 19, 20, 20]</td>\n",
       "    </tr>\n",
       "    <tr>\n",
       "      <th>1</th>\n",
       "      <td>B</td>\n",
       "      <td>High</td>\n",
       "      <td>0,0,2,0,2,0,1,2,0,3</td>\n",
       "      <td>[13, 13, 15, 15, 17, 18, 18, 20, 20, 20]</td>\n",
       "    </tr>\n",
       "    <tr>\n",
       "      <th>2</th>\n",
       "      <td>C</td>\n",
       "      <td>High</td>\n",
       "      <td>3,0,0,2,1,0,0,0,3,1</td>\n",
       "      <td>[11, 11, 11, 14, 14, 15, 19, 19, 19, 20]</td>\n",
       "    </tr>\n",
       "    <tr>\n",
       "      <th>3</th>\n",
       "      <td>D</td>\n",
       "      <td>Low</td>\n",
       "      <td>2,1,0,2,0,1,2,0,1,1</td>\n",
       "      <td>[11, 11, 12, 14, 14, 16, 17, 17, 19, 20]</td>\n",
       "    </tr>\n",
       "    <tr>\n",
       "      <th>4</th>\n",
       "      <td>E</td>\n",
       "      <td>Low</td>\n",
       "      <td>3,2,0,0,0,1,0,3,0,1</td>\n",
       "      <td>[11, 11, 11, 12, 12, 16, 18, 18, 18, 20]</td>\n",
       "    </tr>\n",
       "  </tbody>\n",
       "</table>\n",
       "</div>"
      ],
      "text/plain": [
       "  part_id condition           allocation  \\\n",
       "0       A       Low  3,1,0,2,1,0,0,0,1,2   \n",
       "1       B      High  0,0,2,0,2,0,1,2,0,3   \n",
       "2       C      High  3,0,0,2,1,0,0,0,3,1   \n",
       "3       D       Low  2,1,0,2,0,1,2,0,1,1   \n",
       "4       E       Low  3,2,0,0,0,1,0,3,0,1   \n",
       "\n",
       "                               distribution  \n",
       "0  [11, 11, 11, 12, 14, 14, 15, 19, 20, 20]  \n",
       "1  [13, 13, 15, 15, 17, 18, 18, 20, 20, 20]  \n",
       "2  [11, 11, 11, 14, 14, 15, 19, 19, 19, 20]  \n",
       "3  [11, 11, 12, 14, 14, 16, 17, 17, 19, 20]  \n",
       "4  [11, 11, 11, 12, 12, 16, 18, 18, 18, 20]  "
      ]
     },
     "execution_count": 4,
     "metadata": {},
     "output_type": "execute_result"
    }
   ],
   "source": [
    "df[\"distribution\"] = df[\"allocation\"].apply(\n",
    "    convert_allocation_to_distribution,\n",
    "    buckets=[11, 12, 13, 14, 15, 16, 17, 18, 19, 20]\n",
    ")\n",
    "df.head()"
   ]
  },
  {
   "cell_type": "markdown",
   "metadata": {},
   "source": [
    "Good! The raw allocation strings have now been converted to the actual distribution provided by participants.\n",
    "\n",
    "However, the data is in a nice shape: the data for each participant is stored as a list of number in a single column. Ideally, we'd like a format that we can use to do analysis and graphs."
   ]
  },
  {
   "cell_type": "markdown",
   "metadata": {},
   "source": [
    "### B. Pivoting the distributions in long form"
   ]
  },
  {
   "cell_type": "markdown",
   "metadata": {},
   "source": [
    "We are now going to reshape the data in long form, such that one record corresponds to one value entered by one participant."
   ]
  },
  {
   "cell_type": "code",
   "execution_count": 5,
   "metadata": {},
   "outputs": [],
   "source": [
    "part_values = (\n",
    "    df.set_index(\"part_id\").distribution.apply(pd.Series).stack().reset_index()\n",
    ")\n",
    "part_values.columns = [\"part_id\", \"value_index\", \"value\"]"
   ]
  },
  {
   "cell_type": "markdown",
   "metadata": {},
   "source": [
    "Let's first check that we have the expected number of records:"
   ]
  },
  {
   "cell_type": "code",
   "execution_count": 6,
   "metadata": {},
   "outputs": [
    {
     "data": {
      "text/html": [
       "We have a total of 200 observations\n",
       "             (20 participants times 10 values per participant)"
      ],
      "text/plain": [
       "<IPython.core.display.HTML object>"
      ]
     },
     "metadata": {},
     "output_type": "display_data"
    }
   ],
   "source": [
    "display(HTML(f\"\"\"We have a total of {part_values.shape[0]} observations\n",
    "             (20 participants times 10 values per participant)\"\"\"))"
   ]
  },
  {
   "cell_type": "markdown",
   "metadata": {},
   "source": [
    "Now if we inspect the head of the dataset..."
   ]
  },
  {
   "cell_type": "code",
   "execution_count": 7,
   "metadata": {},
   "outputs": [
    {
     "data": {
      "text/html": [
       "<div>\n",
       "<style scoped>\n",
       "    .dataframe tbody tr th:only-of-type {\n",
       "        vertical-align: middle;\n",
       "    }\n",
       "\n",
       "    .dataframe tbody tr th {\n",
       "        vertical-align: top;\n",
       "    }\n",
       "\n",
       "    .dataframe thead th {\n",
       "        text-align: right;\n",
       "    }\n",
       "</style>\n",
       "<table border=\"1\" class=\"dataframe\">\n",
       "  <thead>\n",
       "    <tr style=\"text-align: right;\">\n",
       "      <th></th>\n",
       "      <th>part_id</th>\n",
       "      <th>value_index</th>\n",
       "      <th>value</th>\n",
       "    </tr>\n",
       "  </thead>\n",
       "  <tbody>\n",
       "    <tr>\n",
       "      <th>0</th>\n",
       "      <td>A</td>\n",
       "      <td>0</td>\n",
       "      <td>11</td>\n",
       "    </tr>\n",
       "    <tr>\n",
       "      <th>1</th>\n",
       "      <td>A</td>\n",
       "      <td>1</td>\n",
       "      <td>11</td>\n",
       "    </tr>\n",
       "    <tr>\n",
       "      <th>2</th>\n",
       "      <td>A</td>\n",
       "      <td>2</td>\n",
       "      <td>11</td>\n",
       "    </tr>\n",
       "    <tr>\n",
       "      <th>3</th>\n",
       "      <td>A</td>\n",
       "      <td>3</td>\n",
       "      <td>12</td>\n",
       "    </tr>\n",
       "    <tr>\n",
       "      <th>4</th>\n",
       "      <td>A</td>\n",
       "      <td>4</td>\n",
       "      <td>14</td>\n",
       "    </tr>\n",
       "  </tbody>\n",
       "</table>\n",
       "</div>"
      ],
      "text/plain": [
       "  part_id  value_index  value\n",
       "0       A            0     11\n",
       "1       A            1     11\n",
       "2       A            2     11\n",
       "3       A            3     12\n",
       "4       A            4     14"
      ]
     },
     "execution_count": 7,
     "metadata": {},
     "output_type": "execute_result"
    }
   ],
   "source": [
    "part_values.head()"
   ]
  },
  {
   "cell_type": "markdown",
   "metadata": {},
   "source": [
    "...we see that we have the list of all values, but that we no longer have the participant-level information (such as the condition to which they were assigned).\n",
    "\n",
    "To correct this, we need to merge those values with the original dataset on the column `part_id`."
   ]
  },
  {
   "cell_type": "markdown",
   "metadata": {},
   "source": [
    "### c. Merging back the rest of the data\n",
    "\n",
    "Before merging, we can also drop the columns \"distribution\" and \"allocation\", which are no longer needed."
   ]
  },
  {
   "cell_type": "code",
   "execution_count": 8,
   "metadata": {},
   "outputs": [
    {
     "data": {
      "text/html": [
       "<div>\n",
       "<style scoped>\n",
       "    .dataframe tbody tr th:only-of-type {\n",
       "        vertical-align: middle;\n",
       "    }\n",
       "\n",
       "    .dataframe tbody tr th {\n",
       "        vertical-align: top;\n",
       "    }\n",
       "\n",
       "    .dataframe thead th {\n",
       "        text-align: right;\n",
       "    }\n",
       "</style>\n",
       "<table border=\"1\" class=\"dataframe\">\n",
       "  <thead>\n",
       "    <tr style=\"text-align: right;\">\n",
       "      <th></th>\n",
       "      <th>part_id</th>\n",
       "      <th>value_index</th>\n",
       "      <th>value</th>\n",
       "      <th>condition</th>\n",
       "    </tr>\n",
       "  </thead>\n",
       "  <tbody>\n",
       "    <tr>\n",
       "      <th>0</th>\n",
       "      <td>A</td>\n",
       "      <td>0</td>\n",
       "      <td>11</td>\n",
       "      <td>Low</td>\n",
       "    </tr>\n",
       "    <tr>\n",
       "      <th>1</th>\n",
       "      <td>A</td>\n",
       "      <td>1</td>\n",
       "      <td>11</td>\n",
       "      <td>Low</td>\n",
       "    </tr>\n",
       "    <tr>\n",
       "      <th>2</th>\n",
       "      <td>A</td>\n",
       "      <td>2</td>\n",
       "      <td>11</td>\n",
       "      <td>Low</td>\n",
       "    </tr>\n",
       "    <tr>\n",
       "      <th>3</th>\n",
       "      <td>A</td>\n",
       "      <td>3</td>\n",
       "      <td>12</td>\n",
       "      <td>Low</td>\n",
       "    </tr>\n",
       "    <tr>\n",
       "      <th>4</th>\n",
       "      <td>A</td>\n",
       "      <td>4</td>\n",
       "      <td>14</td>\n",
       "      <td>Low</td>\n",
       "    </tr>\n",
       "  </tbody>\n",
       "</table>\n",
       "</div>"
      ],
      "text/plain": [
       "  part_id  value_index  value condition\n",
       "0       A            0     11       Low\n",
       "1       A            1     11       Low\n",
       "2       A            2     11       Low\n",
       "3       A            3     12       Low\n",
       "4       A            4     14       Low"
      ]
     },
     "execution_count": 8,
     "metadata": {},
     "output_type": "execute_result"
    }
   ],
   "source": [
    "df_long = part_values.merge(\n",
    "    df.drop([\"distribution\", \"allocation\"], axis=1), on=\"part_id\"\n",
    ")\n",
    "df_long.head()"
   ]
  },
  {
   "cell_type": "markdown",
   "metadata": {},
   "source": [
    "We now have everything in long form:\n",
    "* The participant-level information\n",
    "* All the values of the distributions provided by the participants\n",
    "\n",
    "We are now ready for some visualization and statistical analysis."
   ]
  },
  {
   "cell_type": "markdown",
   "metadata": {},
   "source": [
    "## 2. Visualizing the data"
   ]
  },
  {
   "cell_type": "markdown",
   "metadata": {},
   "source": [
    "The first thing you can do is to inspect the distributions provided by the participants:"
   ]
  },
  {
   "cell_type": "code",
   "execution_count": 9,
   "metadata": {},
   "outputs": [
    {
     "data": {
      "image/png": "[encoded data removed]",
      "text/plain": [
       "<Figure size 793.525x540 with 20 Axes>"
      ]
     },
     "metadata": {
      "filename": "Fig1"
     },
     "output_type": "display_data"
    }
   ],
   "source": [
    "bins = np.arange(11, 21.1, 1)\n",
    "xticks = np.arange(11, 20.1, 1)\n",
    "g = sns.FacetGrid(\n",
    "    data=df_long,\n",
    "    col=\"part_id\",\n",
    "    col_wrap=4,\n",
    "    hue=\"condition\",\n",
    "    sharex=False,\n",
    "    height=1.5,\n",
    "    aspect=1.7,\n",
    ")\n",
    "g.map(plt.hist, \"value\", bins=bins, histtype=\"bar\", rwidth=0.8, align=\"left\")\n",
    "g.set_ylabels(\"Number of Balls\")\n",
    "g.set_xlabels(\"Bucket\")\n",
    "g.set(xticks=xticks)\n",
    "g.set_titles(\"Participant {col_name}\")\n",
    "g.set(xlim=(10, 21))\n",
    "g.add_legend(title=\"Condition\")\n",
    "fig = plt.gcf()\n",
    "plt.close()\n",
    "display(fig, metadata=dict(filename=\"Fig1\"))"
   ]
  },
  {
   "cell_type": "markdown",
   "metadata": {},
   "source": [
    "Those distributions look pretty random (because they were randomly generated), but at least we can see how each participant responded!\n",
    "\n",
    "Note that we could also look at the distribution of responses by condition."
   ]
  },
  {
   "cell_type": "code",
   "execution_count": 10,
   "metadata": {},
   "outputs": [
    {
     "data": {
      "image/png": "[encoded data removed]",
      "text/plain": [
       "<Figure size 576x288 with 2 Axes>"
      ]
     },
     "metadata": {
      "filename": "Fig2"
     },
     "output_type": "display_data"
    }
   ],
   "source": [
    "g = sns.FacetGrid(data=df_long, col=\"condition\", hue=\"condition\", height=4)\n",
    "g.map(plt.hist, \"value\", bins=bins, lw=1, rwidth=0.8, align=\"left\")\n",
    "g.set_ylabels(\"Total Number of Balls\")\n",
    "g.set_xlabels(\"Bucket\")\n",
    "g.set(xticks=xticks)\n",
    "g.set_titles(\"Condition {col_name}\")\n",
    "g.set(xlim=(10, 21))\n",
    "fig = plt.gcf()\n",
    "plt.close()\n",
    "display(fig, metadata=dict(filename=\"Fig2\"))"
   ]
  },
  {
   "cell_type": "markdown",
   "metadata": {},
   "source": [
    "The visualization tells us the distribution within each condition, but we cannot compare the two conditions (unless you have the exact same number of participant in each condition).\n",
    "\n",
    "If if is not the case, we can visualize the mean number of balls in each bucket and each condition by applying a simple transformation:"
   ]
  },
  {
   "cell_type": "code",
   "execution_count": 11,
   "metadata": {},
   "outputs": [
    {
     "data": {
      "text/html": [
       "<div>\n",
       "<style scoped>\n",
       "    .dataframe tbody tr th:only-of-type {\n",
       "        vertical-align: middle;\n",
       "    }\n",
       "\n",
       "    .dataframe tbody tr th {\n",
       "        vertical-align: top;\n",
       "    }\n",
       "\n",
       "    .dataframe thead th {\n",
       "        text-align: right;\n",
       "    }\n",
       "</style>\n",
       "<table border=\"1\" class=\"dataframe\">\n",
       "  <thead>\n",
       "    <tr style=\"text-align: right;\">\n",
       "      <th></th>\n",
       "      <th>condition</th>\n",
       "      <th>value</th>\n",
       "      <th>mean</th>\n",
       "    </tr>\n",
       "  </thead>\n",
       "  <tbody>\n",
       "    <tr>\n",
       "      <th>0</th>\n",
       "      <td>High</td>\n",
       "      <td>11</td>\n",
       "      <td>1.800000</td>\n",
       "    </tr>\n",
       "    <tr>\n",
       "      <th>1</th>\n",
       "      <td>High</td>\n",
       "      <td>12</td>\n",
       "      <td>1.200000</td>\n",
       "    </tr>\n",
       "    <tr>\n",
       "      <th>2</th>\n",
       "      <td>High</td>\n",
       "      <td>13</td>\n",
       "      <td>2.166667</td>\n",
       "    </tr>\n",
       "    <tr>\n",
       "      <th>3</th>\n",
       "      <td>High</td>\n",
       "      <td>14</td>\n",
       "      <td>2.333333</td>\n",
       "    </tr>\n",
       "    <tr>\n",
       "      <th>4</th>\n",
       "      <td>High</td>\n",
       "      <td>15</td>\n",
       "      <td>1.333333</td>\n",
       "    </tr>\n",
       "  </tbody>\n",
       "</table>\n",
       "</div>"
      ],
      "text/plain": [
       "  condition  value      mean\n",
       "0      High     11  1.800000\n",
       "1      High     12  1.200000\n",
       "2      High     13  2.166667\n",
       "3      High     14  2.333333\n",
       "4      High     15  1.333333"
      ]
     },
     "execution_count": 11,
     "metadata": {},
     "output_type": "execute_result"
    }
   ],
   "source": [
    "mean_values = (\n",
    "    df_long.groupby([\"part_id\", \"value\", \"condition\"])\n",
    "    .count()\n",
    "    .reset_index()\n",
    "    .groupby([\"condition\", \"value\"])\n",
    "    .mean()\n",
    "    .reset_index()\n",
    ")\n",
    "mean_values.columns = [\"condition\", \"value\", \"mean\"]\n",
    "mean_values.head()"
   ]
  },
  {
   "cell_type": "code",
   "execution_count": 12,
   "metadata": {},
   "outputs": [
    {
     "data": {
      "image/png": "[encoded data removed]",
      "text/plain": [
       "<Figure size 635.125x288 with 1 Axes>"
      ]
     },
     "metadata": {
      "filename": "Fig3"
     },
     "output_type": "display_data"
    }
   ],
   "source": [
    "g = sns.catplot(\n",
    "    x=\"value\",\n",
    "    y=\"mean\",\n",
    "    hue=\"condition\",\n",
    "    hue_order=[\"Low\", \"High\"],\n",
    "    data=mean_values,\n",
    "    kind=\"bar\",\n",
    "    ec=\"white\",\n",
    "    height=4,\n",
    "    aspect=2,\n",
    "    legend=False,\n",
    ")\n",
    "g.set_ylabels(\"Mean Number of Balls\")\n",
    "g.set_xlabels(\"Bucket\")\n",
    "g.add_legend(title=\"Condition\")\n",
    "g.set_titles(\"Condition {col_name}\")\n",
    "fig = plt.gcf()\n",
    "plt.close()\n",
    "display(fig, metadata=dict(filename=\"Fig3\"))"
   ]
  },
  {
   "cell_type": "markdown",
   "metadata": {},
   "source": [
    "## 3. Analyzing properties of the distributions"
   ]
  },
  {
   "cell_type": "markdown",
   "metadata": {},
   "source": [
    "**The analysis of the data always depends on the research question.**\n",
    "\n",
    "So far, we have taken a descriptive approach to the data: We considered that we have collected 10 values from each participant, and have analyzed the data as such.\n",
    "\n",
    "However, we could have collected the data with the specific goal of testing people's beliefs about particular properties of the distribution:\n",
    "* We could be interested in what is the *average value* that people expect (i.e., the mean)\n",
    "* We could be interested in how *dispersed* participants expect the distribution to be (e.g., standard deviation).\n",
    "* We could be interested in how *skewed* they expect it to be...\n",
    "\n",
    "In that case, the relevant unit of analysis is the *statistics* computed at the distribution's level.\n",
    "\n",
    "We need to group the data by `part_id`, and compute the statistics of interest, to obtain one data point per participant."
   ]
  },
  {
   "cell_type": "code",
   "execution_count": 13,
   "metadata": {},
   "outputs": [
    {
     "data": {
      "text/html": [
       "<div>\n",
       "<style scoped>\n",
       "    .dataframe tbody tr th:only-of-type {\n",
       "        vertical-align: middle;\n",
       "    }\n",
       "\n",
       "    .dataframe tbody tr th {\n",
       "        vertical-align: top;\n",
       "    }\n",
       "\n",
       "    .dataframe thead th {\n",
       "        text-align: right;\n",
       "    }\n",
       "</style>\n",
       "<table border=\"1\" class=\"dataframe\">\n",
       "  <thead>\n",
       "    <tr style=\"text-align: right;\">\n",
       "      <th></th>\n",
       "      <th>part_id</th>\n",
       "      <th>mean</th>\n",
       "      <th>std</th>\n",
       "      <th>skew</th>\n",
       "      <th>condition</th>\n",
       "    </tr>\n",
       "  </thead>\n",
       "  <tbody>\n",
       "    <tr>\n",
       "      <th>0</th>\n",
       "      <td>A</td>\n",
       "      <td>14.7</td>\n",
       "      <td>3.713339</td>\n",
       "      <td>0.555959</td>\n",
       "      <td>Low</td>\n",
       "    </tr>\n",
       "    <tr>\n",
       "      <th>1</th>\n",
       "      <td>B</td>\n",
       "      <td>16.9</td>\n",
       "      <td>2.766867</td>\n",
       "      <td>-0.264377</td>\n",
       "      <td>High</td>\n",
       "    </tr>\n",
       "    <tr>\n",
       "      <th>2</th>\n",
       "      <td>C</td>\n",
       "      <td>15.3</td>\n",
       "      <td>3.683296</td>\n",
       "      <td>0.035688</td>\n",
       "      <td>High</td>\n",
       "    </tr>\n",
       "    <tr>\n",
       "      <th>3</th>\n",
       "      <td>D</td>\n",
       "      <td>15.1</td>\n",
       "      <td>3.212822</td>\n",
       "      <td>0.088451</td>\n",
       "      <td>Low</td>\n",
       "    </tr>\n",
       "    <tr>\n",
       "      <th>4</th>\n",
       "      <td>E</td>\n",
       "      <td>14.7</td>\n",
       "      <td>3.622461</td>\n",
       "      <td>0.197400</td>\n",
       "      <td>Low</td>\n",
       "    </tr>\n",
       "  </tbody>\n",
       "</table>\n",
       "</div>"
      ],
      "text/plain": [
       "  part_id  mean       std      skew condition\n",
       "0       A  14.7  3.713339  0.555959       Low\n",
       "1       B  16.9  2.766867 -0.264377      High\n",
       "2       C  15.3  3.683296  0.035688      High\n",
       "3       D  15.1  3.212822  0.088451       Low\n",
       "4       E  14.7  3.622461  0.197400       Low"
      ]
     },
     "execution_count": 13,
     "metadata": {},
     "output_type": "execute_result"
    }
   ],
   "source": [
    "df_agg = (\n",
    "    df_long\n",
    "    .groupby(\"part_id\")\n",
    "    .value\n",
    "    .aggregate([\"mean\", \"std\", \"skew\"])\n",
    "    .reset_index()\n",
    "    .merge(\n",
    "        df.drop([\"allocation\", \"distribution\"], axis=1),\n",
    "        on=\"part_id\"\n",
    "    )\n",
    ")\n",
    "df_agg.head()"
   ]
  },
  {
   "cell_type": "markdown",
   "metadata": {},
   "source": [
    "We can now see if our condition had an impact on people's perceived mean of the distribution:"
   ]
  },
  {
   "cell_type": "code",
   "execution_count": 14,
   "metadata": {},
   "outputs": [
    {
     "data": {
      "image/png": "[encoded data removed]",
      "text/plain": [
       "<Figure size 360x360 with 1 Axes>"
      ]
     },
     "metadata": {
      "filename": "Fig4"
     },
     "output_type": "display_data"
    }
   ],
   "source": [
    "g = sns.catplot(x=\"condition\", y=\"mean\", data=df_agg)\n",
    "g.set_xlabels(\"Condition\")\n",
    "g.set_ylabels(\"Mean of Reported Distribution\")\n",
    "fig = plt.gcf()\n",
    "plt.close()\n",
    "display(fig, metadata=dict(filename=\"Fig4\"))"
   ]
  },
  {
   "cell_type": "markdown",
   "metadata": {},
   "source": [
    "Here, we see that participants in the \"Low\" condition reported a significantly lower mean that participants in the \"High\" condition (which is exactly how I created the data, so not so surprising...)."
   ]
  },
  {
   "cell_type": "markdown",
   "metadata": {},
   "source": [
    "## 4. Wrapping up"
   ]
  },
  {
   "cell_type": "markdown",
   "metadata": {},
   "source": [
    "We have seen how to convert the raw data generated by distBuilder to a standard long form dataset.\n",
    "\n",
    "A few words of caution to finish:\n",
    "* Always check that the list of buckets you use in the analysis matches the list of buckets that was shown to participants.\n",
    "* Always check your number of records. If something is off, you might have missing data, or you might not have forced participants to submit a full distribution.\n",
    "* Always ask yourself: what is my unit of analysis? Is it the values provided by participants, or is it a summary statistics of their total reported distribution?"
   ]
  }
 ],
 "metadata": {
  "kernelspec": {
   "display_name": "Python 3",
   "language": "python",
   "name": "python3"
  },
  "language_info": {
   "codemirror_mode": {
    "name": "ipython",
    "version": 3
   },
   "file_extension": ".py",
   "mimetype": "text/x-python",
   "name": "python",
   "nbconvert_exporter": "python",
   "pygments_lexer": "ipython3",
   "version": "3.7.6"
  }
 },
 "nbformat": 4,
 "nbformat_minor": 4
}